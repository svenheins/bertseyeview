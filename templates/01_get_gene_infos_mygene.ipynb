{
 "cells": [
  {
   "cell_type": "code",
   "execution_count": 1,
   "id": "varied-pound",
   "metadata": {},
   "outputs": [
    {
     "name": "stdout",
     "output_type": "stream",
     "text": [
      "Collecting mygene\n",
      "  Downloading mygene-3.2.2-py2.py3-none-any.whl (5.4 kB)\n",
      "Collecting neo4j\n",
      "  Downloading neo4j-4.3.4.tar.gz (75 kB)\n",
      "\u001b[K     |████████████████████████████████| 75 kB 1.6 MB/s eta 0:00:01\n",
      "\u001b[?25hCollecting flask\n",
      "  Downloading Flask-2.0.1-py3-none-any.whl (94 kB)\n",
      "\u001b[K     |████████████████████████████████| 94 kB 4.5 MB/s  eta 0:00:01\n",
      "\u001b[?25hCollecting Jinja2>=3.0\n",
      "  Downloading Jinja2-3.0.1-py3-none-any.whl (133 kB)\n",
      "\u001b[K     |████████████████████████████████| 133 kB 2.5 MB/s eta 0:00:01\n",
      "\u001b[?25hCollecting itsdangerous>=2.0\n",
      "  Downloading itsdangerous-2.0.1-py3-none-any.whl (18 kB)\n",
      "Collecting Werkzeug>=2.0\n",
      "  Downloading Werkzeug-2.0.1-py3-none-any.whl (288 kB)\n",
      "\u001b[K     |████████████████████████████████| 288 kB 6.5 MB/s eta 0:00:01\n",
      "\u001b[?25hRequirement already satisfied: click>=7.1.2 in /opt/conda/lib/python3.8/site-packages (from flask) (7.1.2)\n",
      "Collecting MarkupSafe>=2.0\n",
      "  Downloading MarkupSafe-2.0.1-cp38-cp38-manylinux_2_5_x86_64.manylinux1_x86_64.manylinux_2_12_x86_64.manylinux2010_x86_64.whl (30 kB)\n",
      "Collecting biothings-client>=0.2.6\n",
      "  Downloading biothings_client-0.2.6-py2.py3-none-any.whl (37 kB)\n",
      "Requirement already satisfied: requests>=2.3.0 in /opt/conda/lib/python3.8/site-packages (from biothings-client>=0.2.6->mygene) (2.25.1)\n",
      "Requirement already satisfied: urllib3<1.27,>=1.21.1 in /opt/conda/lib/python3.8/site-packages (from requests>=2.3.0->biothings-client>=0.2.6->mygene) (1.26.4)\n",
      "Requirement already satisfied: certifi>=2017.4.17 in /opt/conda/lib/python3.8/site-packages (from requests>=2.3.0->biothings-client>=0.2.6->mygene) (2020.12.5)\n",
      "Requirement already satisfied: chardet<5,>=3.0.2 in /opt/conda/lib/python3.8/site-packages (from requests>=2.3.0->biothings-client>=0.2.6->mygene) (4.0.0)\n",
      "Requirement already satisfied: idna<3,>=2.5 in /opt/conda/lib/python3.8/site-packages (from requests>=2.3.0->biothings-client>=0.2.6->mygene) (2.10)\n",
      "Requirement already satisfied: pytz in /opt/conda/lib/python3.8/site-packages (from neo4j) (2021.1)\n",
      "Building wheels for collected packages: neo4j\n",
      "  Building wheel for neo4j (setup.py) ... \u001b[?25ldone\n",
      "\u001b[?25h  Created wheel for neo4j: filename=neo4j-4.3.4-py3-none-any.whl size=100145 sha256=d114723c3df059c96540dbfd6986fe336fb5375b74d1ad225e62707571265f83\n",
      "  Stored in directory: /home/jovyan/.cache/pip/wheels/9d/e3/17/7f88ce858c96654f30c2f0a7b51d37b2333545626a90b0f5e6\n",
      "Successfully built neo4j\n",
      "Installing collected packages: MarkupSafe, Werkzeug, Jinja2, itsdangerous, biothings-client, neo4j, mygene, flask\n",
      "  Attempting uninstall: MarkupSafe\n",
      "    Found existing installation: MarkupSafe 1.1.1\n",
      "    Uninstalling MarkupSafe-1.1.1:\n",
      "      Successfully uninstalled MarkupSafe-1.1.1\n",
      "  Attempting uninstall: Jinja2\n",
      "    Found existing installation: Jinja2 2.11.3\n",
      "    Uninstalling Jinja2-2.11.3:\n",
      "      Successfully uninstalled Jinja2-2.11.3\n",
      "Successfully installed Jinja2-3.0.1 MarkupSafe-2.0.1 Werkzeug-2.0.1 biothings-client-0.2.6 flask-2.0.1 itsdangerous-2.0.1 mygene-3.2.2 neo4j-4.3.4\n"
     ]
    }
   ],
   "source": [
    "!pip install mygene neo4j flask"
   ]
  },
  {
   "cell_type": "code",
   "execution_count": 2,
   "id": "forbidden-costa",
   "metadata": {},
   "outputs": [],
   "source": [
    "import mygene\n",
    "mg = mygene.MyGeneInfo()\n",
    "\n",
    "import pandas as pd\n",
    "import glob\n",
    "import os\n",
    "import time\n",
    "import functools\n",
    "\n",
    "import configparser\n",
    "import shutil\n",
    "import filecmp\n",
    "import sys\n",
    "from io import StringIO\n",
    "\n",
    "import requests\n",
    "from xml.etree import ElementTree\n"
   ]
  },
  {
   "cell_type": "code",
   "execution_count": 3,
   "id": "corrected-moses",
   "metadata": {},
   "outputs": [],
   "source": [
    "## request something followed by a delay (pubmed allows 3 requests per second)\n",
    "def request_with_delay(url, api_delay = 0.0, my_timeout = 8.0):#= 0.35):\n",
    "    try:\n",
    "        response = requests.get(url, timeout=my_timeout)\n",
    "    except (requests.exceptions.Timeout, requests.exceptions.ConnectionError) as err:\n",
    "        return None#'Server taking too long. Try again later'\n",
    "    else:\n",
    "        time.sleep(api_delay)\n",
    "        return response  "
   ]
  },
  {
   "cell_type": "code",
   "execution_count": 4,
   "id": "spanish-belgium",
   "metadata": {},
   "outputs": [],
   "source": [
    "from graphapi.neo4j_api_helper import Neo4j_Manager\n",
    "config_path = './input/config.ini'\n",
    "## general config\n",
    "config = configparser.ConfigParser()\n",
    "config.read(config_path)\n",
    "project_name = config['GENERAL-settings']['project_name']\n",
    "db_hostname = config['NEO4J-settings']['neo4j_hostname']\n",
    "neo4j_bolt = config['NEO4J-settings']['neo4j_bolt']\n",
    "neo4j_user = config['NEO4J-settings']['neo4j_user']\n",
    "neo4j_password = config['NEO4J-settings']['neo4j_password']\n",
    "\n",
    "neo4j_manager = Neo4j_Manager(neo4j_bolt+\"-\"+project_name, neo4j_user, neo4j_password)"
   ]
  },
  {
   "cell_type": "code",
   "execution_count": 5,
   "id": "funky-oxford",
   "metadata": {},
   "outputs": [
    {
     "name": "stdout",
     "output_type": "stream",
     "text": [
      "514\n"
     ]
    }
   ],
   "source": [
    "#gene_list = neo4j_manager.get_all_nodes_for_label(concept_label=\"gene\", return_field=\"name\")\n",
    "gene_list = neo4j_manager.where_exists_field(\"gene\", \"entrezgene\", \"name\", negate = True)\n",
    "print(str(len(gene_list)))"
   ]
  },
  {
   "cell_type": "code",
   "execution_count": 7,
   "id": "pleasant-marks",
   "metadata": {},
   "outputs": [
    {
     "name": "stdout",
     "output_type": "stream",
     "text": [
      "There are 72 normalized genes and 442 malformated gene names\n",
      "8655\n"
     ]
    }
   ],
   "source": [
    "sum_normalized = 0\n",
    "sum_malformated = 0\n",
    "correct_gene_names =[]\n",
    "for gene_name in gene_list:\n",
    "    if gene_name.startswith(\"Gene:\"):\n",
    "        if gene_name.split(\"Gene:\")[1].isnumeric():\n",
    "            sum_normalized += 1\n",
    "            correct_gene_names.append(gene_name)\n",
    "        else:\n",
    "            #print(\"The following gene is not normalized correctly: \"+gene_name)\n",
    "            sum_malformated += 1\n",
    "    else: \n",
    "        #print(\"The following gene is not normalized correctly: \"+gene_name)\n",
    "        sum_malformated += 1\n",
    "print(\"There are \"+str(sum_normalized)+\" normalized genes and \"+ str(sum_malformated)+\" malformated gene names\")\n",
    "\n",
    "## check, if there are special cases where we find some content in the label field\n",
    "gene_list_checkup = neo4j_manager.search_term_in_label(concept_label=\"gene\", \n",
    "                                               concept_field=\"label\", \n",
    "                                               search_operator=\"=~\", \n",
    "                                               term=\".*\", \n",
    "                                               return_field=\"name\")\n",
    "print(len(gene_list_checkup))\n",
    "## seems, that 2 genes have something in their label field, despite not beeing correctly normalized"
   ]
  },
  {
   "cell_type": "code",
   "execution_count": 8,
   "id": "purple-latter",
   "metadata": {},
   "outputs": [
    {
     "name": "stdout",
     "output_type": "stream",
     "text": [
      "72\n",
      "['8248', '13906541', '2716540', '9720867', '7011608', '13909623', '100508689', '103694877', '100131131', '609020']\n"
     ]
    }
   ],
   "source": [
    "## transform gene-names to entrez ids\n",
    "entrez_gene_ids = [ gene_id.split(\":\")[1] for gene_id in correct_gene_names]\n",
    "print(str(len(entrez_gene_ids)))\n",
    "print(str(entrez_gene_ids[0:10]))"
   ]
  },
  {
   "cell_type": "code",
   "execution_count": 9,
   "id": "searching-career",
   "metadata": {},
   "outputs": [
    {
     "name": "stdout",
     "output_type": "stream",
     "text": [
      "querying 1-72...done.\n",
      "Finished.\n",
      "72 input query terms found no hit:\n",
      "\t['8248', '13906541', '2716540', '9720867', '7011608', '13909623', '100508689', '103694877', '1001311\n",
      "Pass \"returnall=True\" to return complete lists of duplicate or missing query terms.\n"
     ]
    }
   ],
   "source": [
    "## start the query (batches of 1000 are processed)\n",
    "ginfo = mg.querymany(entrez_gene_ids, scopes='entrezgene',fields='symbol,name,alias,entrezgene,refseq.rna,ensembl.gene,taxid,pathway.kegg,pathway.reactome,pathway.biocarta,pathway.netpath,pathway.wikipathways,pathway.pid,go,type_of_gene,summary') #\"all\")\n",
    "i = 0\n",
    "csv_header = \"query;_id;alias;_score;ensembl;entrezgene;name;refseq;symbol;taxid;pathway;go;type_of_gene;summary\"\n",
    "#    #csv_header = \"query;symbol;top_feature_importances;top_feature_importances_index\"\n",
    "gene_list_file_name = \"genelist.csv\"##\n",
    "\n",
    "with open(gene_list_file_name, \"w\") as outfile:\n",
    "    outfile.write(csv_header+\"\\n\")\n",
    "    outfile.close()\n",
    "\n",
    "for g in ginfo:\n",
    "    line = \"\"\n",
    "    for header in csv_header.split(\";\"):\n",
    "        if header in g.keys():\n",
    "            line = line + \"{0};\".format(g[header])\n",
    "        else:\n",
    "            line = line + \"{0};\".format(\"NA\")\n",
    "        \n",
    "    with open(gene_list_file_name, 'a') as outfile:\n",
    "        outfile.write(line+\"\\n\")\n",
    "        outfile.close()\n",
    "    i += 1    "
   ]
  },
  {
   "cell_type": "code",
   "execution_count": 10,
   "id": "trying-physics",
   "metadata": {},
   "outputs": [
    {
     "name": "stdout",
     "output_type": "stream",
     "text": [
      "index = 0\n",
      "index = 50\n"
     ]
    }
   ],
   "source": [
    "## get all information for one gene by using the mygene-package\n",
    "## we are adding more entities: pathways, go-terms\n",
    "\n",
    "def get_ensembl_genelist(entry):\n",
    "    ## if dict create list of dict -> [dict]\n",
    "    if (isinstance(entry, dict)):\n",
    "        entry_list = [entry]\n",
    "    elif (isinstance(entry, list)):\n",
    "        entry_list = entry\n",
    "    else:\n",
    "        raise Exception(\"wrong data type: expected: list or dict, but got: \"+str(type(entry)))\n",
    "    ensembl_genelist = []\n",
    "    for entry_key in entry_list:\n",
    "        if (isinstance(entry_key, dict)):\n",
    "            if 'gene' in entry_key:\n",
    "                ensembl_genelist.append(entry_key['gene'])\n",
    "            else:\n",
    "                raise Exception(\"no gene key found in ensembl entry \"+str(entry_key))  \n",
    "        else:\n",
    "            raise Exception(\"wrong data type: expected: dict, but got: \"+str(type(entry_query_key)))  \n",
    "    \n",
    "    return ensembl_genelist\n",
    "\n",
    "def add_quotes(str_in):\n",
    "    return \"\\'\"+replace_quotes(str_in)+\"\\'\"\n",
    "\n",
    "def replace_quotes(str_in):\n",
    "    return str(str_in).replace(\"\\\\\", \"/\").replace(\"'\", \"\\\\'\")\n",
    "\n",
    "index_ginfo = 0\n",
    "for gene_query in ginfo:\n",
    "    if (index_ginfo %50 == 0):\n",
    "        print(\"index = \"+str(index_ginfo))\n",
    "    gene_id = neo4j_manager.search_id_in_label(\"gene\", \"name\", \"=\", \"Gene:\"+str(gene_query['query']))[0]\n",
    "    if 'ensembl' in gene_query:\n",
    "        query_key = gene_query['ensembl']\n",
    "        ensembl_str = \",\".join(get_ensembl_genelist(query_key))\n",
    "        neo4j_manager.set_tag_node_attribute(gene_id, \"ensembl_ids\", add_quotes(ensembl_str))\n",
    "    if 'alias' in gene_query:\n",
    "        neo4j_manager.set_tag_node_attribute(gene_id, \"alias\", add_quotes(\",\".join(gene_query['alias'])))\n",
    "    if 'refseq' in gene_query:\n",
    "        for refseq_attribute in gene_query['refseq']:\n",
    "            refseq_attribute_name = 'refseq_'+refseq_attribute\n",
    "            if len(gene_query['refseq'][refseq_attribute]) > 1:\n",
    "                refseq_attribute_value = add_quotes(\",\".join(gene_query['refseq'][refseq_attribute]))\n",
    "            else:\n",
    "                refseq_attribute_value = add_quotes(gene_query['refseq'][refseq_attribute])\n",
    "            neo4j_manager.set_tag_node_attribute(gene_id, refseq_attribute_name, refseq_attribute_value)           \n",
    "    \n",
    "    if 'go' in gene_query:\n",
    "        #print(gene_query)\n",
    "        for go_category in gene_query['go']:\n",
    "        #if 'BP' in gene_query['go']:\n",
    "            go_category_list = gene_query['go'][go_category]\n",
    "            if (isinstance(go_category_list, dict)):\n",
    "                go_category_list = [go_category_list]\n",
    "            \n",
    "            for go_term in go_category_list:\n",
    "                #print(go_term)\n",
    "                object_attributes = ['evidence','gocategory','qualifier','term']\n",
    "                object_values = [replace_quotes(go_term['evidence']),go_category,replace_quotes(go_term['qualifier']),replace_quotes(go_term['term'])]\n",
    "                if go_category == \"BP\":\n",
    "                    object_label = \"GO_BP\"\n",
    "                    go_rel = \"-[:GO_BP_contains_gene]->\"\n",
    "                elif go_category == \"MF\":\n",
    "                    object_label = \"GO_MF\"\n",
    "                    go_rel = \"-[:GO_MF_contains_gene]->\"\n",
    "                elif go_category == \"CC\":\n",
    "                    object_label = \"GO_CC\"\n",
    "                    go_rel = \"-[:GO_CC_contains_gene]->\"\n",
    "                else:\n",
    "                    raise Exception(\"wrong go category \"+go_category)\n",
    "                neo4j_manager.create_object_for_entity(entity_label=\"gene\", entity_name=\"Gene:\"+str(gene_query['query']), object_label=object_label, object_name=go_term['id'], object_attributes=object_attributes, object_values=object_values, relationship_str = go_rel)\n",
    "                \n",
    "    \n",
    "    if 'pathway' in gene_query:\n",
    "        #print(gene_query)\n",
    "        for pathway_category in gene_query['pathway']:\n",
    "        #if 'BP' in gene_query['go']:\n",
    "            pathway_category_list = gene_query['pathway'][pathway_category]\n",
    "            if (isinstance(pathway_category_list, dict)):\n",
    "                pathway_category_list = [pathway_category_list]\n",
    "            \n",
    "            for pathway_term in pathway_category_list:\n",
    "                #print(go_term)\n",
    "                object_attributes = ['id','label']\n",
    "                object_values = [replace_quotes(pathway_term['id']),replace_quotes(pathway_term['name'])]\n",
    "                if pathway_category not in [\"kegg\", \"reactome\", \"wikipathways\", \"netpath\", \"pid\", \"biocarta\"]:\n",
    "                    raise Exception(\"wrong pathway category \"+pathway_category)\n",
    "                else:\n",
    "                    object_label = \"pathway_\"+str(pathway_category)\n",
    "                    pathway_rel = \"-[:\"+pathway_category+\"_contains_gene]->\"\n",
    "\n",
    "                neo4j_manager.create_object_for_entity(entity_label=\"gene\", entity_name=\"Gene:\"+str(gene_query['query']), object_label=object_label, object_name=pathway_term['id'], object_attributes=object_attributes, object_values=object_values, relationship_str = pathway_rel)\n",
    "    \n",
    "    simple_fields = [\"taxid\", \"symbol\", \"type_of_gene\", \"summary\", \"entrezgene\"]\n",
    "    for simple_field in simple_fields:\n",
    "        if simple_field in gene_query:\n",
    "            neo4j_manager.set_tag_node_attribute(gene_id, simple_field, add_quotes(gene_query[simple_field]))\n",
    "    \n",
    "    \n",
    "    #\"query;_id;alias;_score;ensembl;entrezgene;name;refseq;symbol;taxid;pathway;go;type_of_gene;summary\"\n",
    "    index_ginfo = index_ginfo + 1"
   ]
  },
  {
   "cell_type": "code",
   "execution_count": null,
   "id": "fresh-wealth",
   "metadata": {},
   "outputs": [],
   "source": []
  }
 ],
 "metadata": {
  "kernelspec": {
   "display_name": "Python 3",
   "language": "python",
   "name": "python3"
  },
  "language_info": {
   "codemirror_mode": {
    "name": "ipython",
    "version": 3
   },
   "file_extension": ".py",
   "mimetype": "text/x-python",
   "name": "python",
   "nbconvert_exporter": "python",
   "pygments_lexer": "ipython3",
   "version": "3.8.8"
  }
 },
 "nbformat": 4,
 "nbformat_minor": 5
}
